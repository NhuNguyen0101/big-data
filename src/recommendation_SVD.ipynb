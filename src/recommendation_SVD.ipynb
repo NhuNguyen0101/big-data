{
 "cells": [
  {
   "cell_type": "code",
   "execution_count": null,
   "metadata": {
    "id": "D9ctE6MKN65U"
   },
   "outputs": [],
   "source": [
    "from pyspark.sql import SparkSession\n",
    "from pyspark.sql.functions import col, split, regexp_replace\n",
    "from pyspark.sql.types import IntegerType, FloatType\n",
    "import pandas as pd\n",
    "import numpy as np\n",
    "from surprise import SVD, Dataset, Reader\n",
    "from surprise.model_selection import train_test_split\n",
    "\n",
    "# Initialize Spark session\n",
    "spark = SparkSession.builder \\\n",
    "    .appName(\"NetflixRecommendationSVD\") \\\n",
    "    .master(\"local[*]\") \\\n",
    "    .getOrCreate()\n",
    "\n",
    "# Set configuration for HDFS\n",
    "sc = spark.sparkContext"
   ]
  },
  {
   "cell_type": "code",
   "execution_count": null,
   "metadata": {
    "id": "KpnnQLXkOOhW"
   },
   "outputs": [],
   "source": [
    "# Load movie titles from HDFS\n",
    "df_title = spark.read.csv(\"hdfs://ff.ff.ff.ff:9000/netflix_data/movie_titles.csv\", header=False, inferSchema=True)\n",
    "df_title = df_title.select(\n",
    "    col(\"_c0\").cast(IntegerType()).alias(\"Movie_Id\"),\n",
    "    regexp_replace(col(\"_c1\"), \"[\\r\\n]\", \"\").alias(\"Year\"),\n",
    "    regexp_replace(col(\"_c2\"), \"[\\r\\n]\", \"\").alias(\"Name\")\n",
    ")\n",
    "\n",
    "# Load and parse combined data (e.g., combined_data_1.txt)\n",
    "combined_files = [\"combined_data_1.txt\", \"combined_data_2.txt\", \"combined_data_3.txt\", \"combined_data_4.txt\"]\n",
    "raw_data = spark.read.text(\"hdfs://172.30.1.11:9000/netflix_data/\" + combined_files[0])\n",
    "\n",
    "for file in combined_files[1:]:\n",
    "    raw_data = raw_data.union(spark.read.text(\"hdfs://172.30.1.11:9000/netflix_data/\" + file))\n",
    "\n",
    "# Parse the block structure\n",
    "def parse_block(index, iterator):\n",
    "    result = []\n",
    "    movie_id = None\n",
    "    for line in iterator:\n",
    "        line = line.value.strip()\n",
    "        if line.endswith(':'):\n",
    "            movie_id = int(line[:-1])\n",
    "        elif line and movie_id:\n",
    "            cust_id, rating, date = line.split(',')\n",
    "            result.append((int(cust_id), movie_id, float(rating), date))\n",
    "    return result\n",
    "\n",
    "parsed_rdd = raw_data.rdd.mapPartitionsWithIndex(parse_block)\n",
    "df_ratings = spark.createDataFrame(parsed_rdd, [\"Cust_Id\", \"Movie_Id\", \"Rating\", \"Date\"])\n",
    "\n",
    "# Filter out invalid entries and cache\n",
    "df_ratings = df_ratings.filter(df_ratings.Movie_Id.isNotNull())\n",
    "df_ratings.cache()\n",
    "\n",
    "# Convert to Pandas for Surprise compatibility\n",
    "df_pandas = df_ratings.toPandas()"
   ]
  },
  {
   "cell_type": "code",
   "execution_count": null,
   "metadata": {
    "id": "rl0wwweSORNE"
   },
   "outputs": [],
   "source": [
    "# Define Reader for Surprise\n",
    "reader = Reader(rating_scale=(1, 5))\n",
    "\n",
    "# Load data into Surprise Dataset\n",
    "data = Dataset.load_from_df(df_pandas[['Cust_Id', 'Movie_Id', 'Rating']], reader)\n",
    "\n",
    "# Train-test split for validation (optional)\n",
    "trainset, testset = train_test_split(data, test_size=0.2)\n",
    "\n",
    "# Train SVD model\n",
    "model_svd = SVD()\n",
    "model_svd.fit(trainset)"
   ]
  },
  {
   "cell_type": "code",
   "execution_count": null,
   "metadata": {
    "id": "unYC_pQ2OTj3"
   },
   "outputs": [],
   "source": [
    "# Get all movie IDs\n",
    "all_movie_ids = df_title.select(\"Movie_Id\").rdd.flatMap(lambda x: x).collect()\n",
    "\n",
    "# Predict for user 785314\n",
    "user_id = 785314\n",
    "df_user_recom = df_title.toPandas()\n",
    "df_user_recom['Estimate_score'] = df_user_recom['Movie_Id'].apply(lambda x: model_svd.predict(user_id, x).est)\n",
    "\n",
    "# Sort and get top 5\n",
    "top_5_recommendations = df_user_recom.sort_values('Estimate_score', ascending=False).head(5)\n",
    "print(\"Top 5 Recommended Movies for User 785314:\")\n",
    "print(top_5_recommendations[['Name', 'Estimate_score']].to_string(index=False))\n"
   ]
  },
  {
   "cell_type": "code",
   "execution_count": null,
   "metadata": {
    "id": "RmItHB6XOXw_"
   },
   "outputs": [],
   "source": [
    "# Convert sparse matrix to Pandas (for correlation)\n",
    "df_sparse_mat = pd.pivot_table(df_pandas, values='Rating', index='Cust_Id', columns='Movie_Id')\n",
    "\n",
    "def recommend_movie(movie_title):\n",
    "    movie_id = df_title.filter(df_title.Name == movie_title).select(\"Movie_Id\").collect()[0][0]\n",
    "    if movie_id in df_sparse_mat.columns:\n",
    "        corr_y = df_sparse_mat.corrwith(df_sparse_mat[movie_id])\n",
    "        df_recommend = pd.DataFrame(corr_y, columns=['Pearson_R'])\n",
    "        df_recommend.dropna(inplace=True)\n",
    "        df_recommend = df_recommend.sort_values('Pearson_R', ascending=False)\n",
    "        df_recommend.index = df_recommend.index.map(int)\n",
    "        df_recommend = df_recommend.join(df_title.toPandas().set_index('Movie_Id')[['Name']])\n",
    "        print(df_recommend[df_recommend.index.isin(df_sparse_mat.columns) & (df_recommend.index != movie_id)].head(10).to_string(index=False))\n",
    "    else:\n",
    "        print(f\"Movie '{movie_title}' not found or insufficient ratings.\")\n",
    "\n",
    "# Example usage\n",
    "recommend_movie(\"The Twilight Samurai\")"
   ]
  },
  {
   "cell_type": "code",
   "execution_count": null,
   "metadata": {
    "id": "OKjNTWHvOb-_"
   },
   "outputs": [],
   "source": [
    "# Stop Spark session\n",
    "spark.stop()"
   ]
  },
  {
   "cell_type": "code",
   "execution_count": null,
   "metadata": {},
   "outputs": [],
   "source": []
  }
 ],
 "metadata": {
  "colab": {
   "provenance": []
  },
  "kernelspec": {
   "display_name": "Python 3 (ipykernel)",
   "language": "python",
   "name": "python3"
  },
  "language_info": {
   "codemirror_mode": {
    "name": "ipython",
    "version": 3
   },
   "file_extension": ".py",
   "mimetype": "text/x-python",
   "name": "python",
   "nbconvert_exporter": "python",
   "pygments_lexer": "ipython3",
   "version": "3.10.12"
  }
 },
 "nbformat": 4,
 "nbformat_minor": 4
}
